{
 "cells": [
  {
   "cell_type": "markdown",
   "id": "9c7fd77e",
   "metadata": {},
   "source": [
    "# Annealed importance sampling to generate sample from 1D GZ with Euler-Maruyama at $\\beta$ "
   ]
  },
  {
   "cell_type": "code",
   "execution_count": 444,
   "id": "91699b49-1f1b-4016-9fba-17e51f68d71d",
   "metadata": {},
   "outputs": [
    {
     "name": "stdout",
     "output_type": "stream",
     "text": [
      "Saved data at iteration 0, total violation is 0\n",
      "Saved data at iteration 1, total violation is 0\n",
      "Saved data at iteration 2, total violation is 0\n",
      "Saved data at iteration 3, total violation is 0\n",
      "Saved data at iteration 4, total violation is 0\n",
      "Saved data at iteration 5, total violation is 0\n",
      "Saved data at iteration 6, total violation is 0\n",
      "Saved data at iteration 7, total violation is 0\n",
      "Saved data at iteration 8, total violation is 0\n",
      "Saved data at iteration 9, total violation is 0\n",
      "Saved data at iteration 10, total violation is 0\n",
      "Saved data at iteration 11, total violation is 0\n",
      "Saved data at iteration 12, total violation is 0\n",
      "Saved data at iteration 13, total violation is 0\n",
      "Saved data at iteration 14, total violation is 0\n",
      "Saved data at iteration 15, total violation is 0\n",
      "Saved data at iteration 16, total violation is 0\n",
      "Saved data at iteration 17, total violation is 0\n",
      "Saved data at iteration 18, total violation is 0\n",
      "Saved data at iteration 19, total violation is 0\n",
      "Saved data at iteration 20, total violation is 0\n",
      "Saved data at iteration 21, total violation is 0\n",
      "Saved data at iteration 22, total violation is 0\n",
      "Saved data at iteration 23, total violation is 0\n",
      "Saved data at iteration 24, total violation is 0\n",
      "Saved data at iteration 25, total violation is 0\n",
      "Saved data at iteration 26, total violation is 0\n",
      "Saved data at iteration 27, total violation is 0\n",
      "Saved data at iteration 28, total violation is 0\n",
      "Saved data at iteration 29, total violation is 0\n",
      "total number of violation is 0\n"
     ]
    },
    {
     "data": {
      "image/png": "[encoded data removed]",
      "text/plain": [
       "<Figure size 640x480 with 1 Axes>"
      ]
     },
     "metadata": {},
     "output_type": "display_data"
    }
   ],
   "source": [
    "import numpy as np\n",
    "import os\n",
    "import matplotlib.pyplot as plt\n",
    "\n",
    "# Given constants\n",
    "d = 64\n",
    "h = 1 / (d + 1)\n",
    "λ = 0.01\n",
    "β0 = 50\n",
    "β = 100\n",
    "dβ = (β - β0) / AIS_steps\n",
    "dt = 0.0005 / h\n",
    "N = int(1/h/dt)  # Interested in T = 1\n",
    "dt = 1/h/N  # Correct for small deviation\n",
    "l_AIS = True\n",
    "AIS_steps = 100\n",
    "N_AIS_MALA = 100\n",
    "\n",
    "\n",
    "BATCH_SIZE = 100  # Set your desired batch size\n",
    "\n",
    "data_path = f\"./Saved_Data/1D_GZ_data_d_{d}.npz\"\n",
    "\n",
    "# Hyperparameters\n",
    "hyperparameters = {\n",
    "    \"d\": d,\n",
    "    \"h\": h,\n",
    "    \"λ\": λ,\n",
    "    \"β\": β,\n",
    "    \"dt\": dt,\n",
    "    \"N\": N,\n",
    "    \"BATCH_SIZE\": BATCH_SIZE\n",
    "}\n",
    "\n",
    "# # Create directory if it doesn't exist\n",
    "# if not os.path.exists(\"./Saved_Data\"):\n",
    "#     os.makedirs(\"./Saved_Data\")\n",
    "\n",
    "if os.path.exists(data_path):\n",
    "    os.remove(data_path)\n",
    "\n",
    "# # Load existing data or initialize\n",
    "# if os.path.exists(data_path):\n",
    "#     with np.load(data_path) as data:\n",
    "#         all_samples = data['samples']\n",
    "#         all_log_weights = data['log_weights']\n",
    "# else:\n",
    "all_samples = np.empty((0, d + 2))\n",
    "all_log_weights = np.empty((0))\n",
    "\n",
    "def V(U):\n",
    "    # potential energy V\n",
    "    return λ/h/2 * np.linalg.norm(U - np.roll(U, 1, axis = 1), axis = 1)**2 + h * np.sum(((1 - U**2)**2)[:,1:-2], axis = 1) /4/λ\n",
    "\n",
    "def V_grad(U):\n",
    "    # Gradient of the potential energy V\n",
    "    return λ/h * (2*U - np.roll(U, 1, axis = 1) - np.roll(U, -1, axis = 1)) - h * U * (1 - U**2) /λ\n",
    "\n",
    "count = 0\n",
    "\n",
    "for iteration in range(30):\n",
    "\n",
    "    U = np.zeros((BATCH_SIZE, d + 2))  # Initialize at each iteration\n",
    "\n",
    "    # Creating samples for 1D Ginzburg Landau\n",
    "    for _ in range(N):\n",
    "        dW = np.sqrt(dt) * np.random.randn(BATCH_SIZE, d + 2)\n",
    "        \n",
    "        U_tmp = U.copy()\n",
    "        U_tmp[:, 1:-1] += (-V_grad(U_tmp)[:, 1:-1] * dt + np.sqrt(2/β0) * dW[:, 1:-1])\n",
    "        count += np.sum(U_tmp > 2.5) + np.sum(U_tmp <-2.5)\n",
    "        U_tmp[U_tmp > 2.5] = 2.5\n",
    "        U_tmp[U_tmp < -2.5] = -2.5\n",
    "\n",
    "        log_acceptance_ratio = np.minimum(0.0, - (V(U_tmp) - V(U)) \\\n",
    "                                      - 1/4/dt * (np.linalg.norm(U - U_tmp + dt * V_grad(U_tmp),axis=1)**2 \\\n",
    "                                                      - np.linalg.norm(U_tmp - U + dt * V_grad(U),axis=1)**2))\n",
    "        # Accept or reject\n",
    "        accept = np.log(np.random.uniform(size=U.shape[0])) < log_acceptance_ratio\n",
    "        \n",
    "        U = np.where(accept[:, None], U_tmp, U)\n",
    "\n",
    "    print(f'Saved data at iteration {iteration}, total violation is {count}')\n",
    "\n",
    "    log_weights = np.zeros(BATCH_SIZE)\n",
    "\n",
    "    if l_AIS:\n",
    "        for AIS_step in range(1,AIS_steps+1):\n",
    "            βcurr = β0 + AIS_step * dβ\n",
    "            # Reweighting\n",
    "            log_weights -= (V(U) * dβ)\n",
    "            \n",
    "            # MALA\n",
    "            if AIS_step < AIS_steps:\n",
    "    \n",
    "                for _ in range(N_AIS_MALA):\n",
    "                    dW = np.sqrt(dt) * np.random.randn(BATCH_SIZE, d + 2)\n",
    "                    U_tmp = U.copy()\n",
    "                    U_tmp[:, 1:-1] += (-V_grad(U_tmp)[:, 1:-1] * dt + np.sqrt(2/βcurr) * dW[:, 1:-1])\n",
    "                    count += np.sum(U_tmp > 2.5) + np.sum(U_tmp <-2.5)\n",
    "                    U_tmp[U_tmp > 2.5] = 2.5\n",
    "                    U_tmp[U_tmp < -2.5] = -2.5\n",
    "    \n",
    "                    log_acceptance_ratio = np.minimum(0.0, - (V(U_tmp) - V(U)) \\\n",
    "                                                  - 1/4/dt * (np.linalg.norm(U - U_tmp + dt * V_grad(U_tmp),axis = 1)**2 \\\n",
    "                                                                  - np.linalg.norm(U_tmp - U + dt * V_grad(U),axis = 1)**2))\n",
    "                    # Accept or reject\n",
    "                    accept = np.log(np.random.uniform(size=U.shape[0])) < log_acceptance_ratio\n",
    "                \n",
    "                    U = np.where(accept[:, None], U_tmp, U)\n",
    "    \n",
    "    all_samples = np.concatenate((all_samples, U), axis=0)\n",
    "    all_log_weights = np.concatenate((all_log_weights, log_weights), axis=0)\n",
    "\n",
    "    # Save the accumulated data\n",
    "    np.savez(data_path, samples=all_samples, log_weights=all_log_weights, hyperparameters=hyperparameters)\n",
    "print(f'total number of violation is {count}')\n",
    "\n",
    "# Normalize weights (convert log-weights to normalized weights)\n",
    "all_log_weights -= np.max(all_log_weights)  # Avoid numerical overflow\n",
    "weights = np.exp(all_log_weights)\n",
    "normalized_weights = weights / np.sum(weights)\n",
    "\n",
    "# Visualization of the 8-th marginal distribution\n",
    "eighth_samples = all_samples[:, 8]  # Extract the 8-th bit from each sample\n",
    "plt.hist(eighth_samples, bins=50, density=True, weights = normalized_weights)\n",
    "# plt.hist(eighth_samples, bins=50, density=True)\n",
    "plt.title(\"8-th Marginal Distribution\")\n",
    "plt.savefig('test1.png',bbox_inches='tight')\n",
    "plt.show()\n"
   ]
  },
  {
   "cell_type": "code",
   "execution_count": 261,
   "id": "04e567a6-6d90-44ca-88d3-91bdd76b3d3b",
   "metadata": {},
   "outputs": [
    {
     "name": "stdout",
     "output_type": "stream",
     "text": [
      "544.7158835044373\n"
     ]
    },
    {
     "name": "stderr",
     "output_type": "stream",
     "text": [
      "/var/folders/ly/8y4lprw51mzf0qsjg3kb3jjr0000gn/T/ipykernel_37651/3356040599.py:25: DeprecationWarning: scipy.misc.derivative is deprecated in SciPy v1.10.0; and will be completely removed in SciPy v1.12.0. You may consider using findiff: https://github.com/maroba/findiff or numdifftools: https://github.com/pbrod/numdifftools\n",
      "  dfdx = derivative(test,x[0,:])\n"
     ]
    }
   ],
   "source": [
    "# from scipy.misc import derivative\n",
    "\n",
    "# x = np.random.randn(BATCH_SIZE, d+2)\n",
    "# x[:,0] = 0\n",
    "# x[:,-1] = 0\n",
    "\n",
    "# def test(x):\n",
    "#     res1 = 0\n",
    "#     for i in range(len(x)):\n",
    "#         res1 += (1-x[i]**2)**2\n",
    "#     res1 /= (4*λ)\n",
    "\n",
    "#     res2 = 0\n",
    "#     for i in range(len(x)-1):\n",
    "#         res2 += (x[i+1] - x[i])**2\n",
    "#     res2 *= λ/h**2/2\n",
    "\n",
    "#     return res1 + res2\n",
    "\n",
    "# # a = V(x)\n",
    "# # for i in range(100):\n",
    "# #     print(test(x[i,:]),a[i])\n",
    "\n",
    "\n",
    "# # dfdx = derivative(test,x[0,:])\n",
    "# # print(dfdx)\n",
    "# # print(np.linalg.norm(dfdx - V_grad(x)))"
   ]
  },
  {
   "cell_type": "code",
   "execution_count": 308,
   "id": "3e4d0482-590a-4e86-a3c8-e1247bd8033c",
   "metadata": {},
   "outputs": [
    {
     "data": {
      "text/plain": [
       "array([732.8, 732.8])"
      ]
     },
     "execution_count": 308,
     "metadata": {},
     "output_type": "execute_result"
    }
   ],
   "source": [
    "x = np.ones((2,18)) * 2\n",
    "x[:,0] = 0.\n",
    "x[:,-1] = 0.\n",
    "\n",
    "V(x)"
   ]
  },
  {
   "cell_type": "code",
   "execution_count": 441,
   "id": "e86f28b7-3020-4f98-a511-c42c4a513fa4",
   "metadata": {},
   "outputs": [
    {
     "data": {
      "text/plain": [
       "[<matplotlib.lines.Line2D at 0x123165310>]"
      ]
     },
     "execution_count": 441,
     "metadata": {},
     "output_type": "execute_result"
    },
    {
     "data": {
      "image/png": "[encoded data removed]",
      "text/plain": [
       "<Figure size 640x480 with 1 Axes>"
      ]
     },
     "metadata": {},
     "output_type": "display_data"
    }
   ],
   "source": [
    "plt.plot(normalized_weights)"
   ]
  },
  {
   "cell_type": "code",
   "execution_count": 422,
   "id": "bffd827c-a2cb-4875-b9e4-121cc69b4761",
   "metadata": {},
   "outputs": [
    {
     "data": {
      "text/plain": [
       "[<matplotlib.lines.Line2D at 0x122c23830>]"
      ]
     },
     "execution_count": 422,
     "metadata": {},
     "output_type": "execute_result"
    },
    {
     "data": {
      "image/png": "[encoded data removed]",
      "text/plain": [
       "<Figure size 640x480 with 1 Axes>"
      ]
     },
     "metadata": {},
     "output_type": "display_data"
    }
   ],
   "source": [
    "plt.plot(normalized_weights)"
   ]
  },
  {
   "cell_type": "code",
   "execution_count": 296,
   "id": "2a924a3e-a4c3-4138-af53-4cefbe7811bd",
   "metadata": {},
   "outputs": [
    {
     "data": {
      "text/plain": [
       "0.05"
      ]
     },
     "execution_count": 296,
     "metadata": {},
     "output_type": "execute_result"
    }
   ],
   "source": [
    "λ"
   ]
  },
  {
   "cell_type": "code",
   "execution_count": null,
   "id": "83bac7d2-355e-44e1-82e7-94196e38b751",
   "metadata": {},
   "outputs": [],
   "source": []
  }
 ],
 "metadata": {
  "kernelspec": {
   "display_name": "Python 3 (ipykernel)",
   "language": "python",
   "name": "python3"
  },
  "language_info": {
   "codemirror_mode": {
    "name": "ipython",
    "version": 3
   },
   "file_extension": ".py",
   "mimetype": "text/x-python",
   "name": "python",
   "nbconvert_exporter": "python",
   "pygments_lexer": "ipython3",
   "version": "3.12.5"
  }
 },
 "nbformat": 4,
 "nbformat_minor": 5
}
